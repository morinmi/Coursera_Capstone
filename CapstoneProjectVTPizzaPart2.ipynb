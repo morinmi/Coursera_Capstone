{
 "cells": [
  {
   "cell_type": "markdown",
   "metadata": {},
   "source": [
    "__**Capstone Project : Where to open a pizza restaurant in Vermont?**__\n",
    "=====\n"
   ]
  },
  {
   "cell_type": "markdown",
   "metadata": {},
   "source": [
    "![alt text](https://www.ccn.com/wp-content/uploads/2018/12/vermont-welcome-sign-blockchain.jpg \"\")\n",
    "![alt text](https://images.unsplash.com/photo-1534308983496-4fabb1a015ee?ixlib=rb-1.2.1&ixid=eyJhcHBfaWQiOjEyMDd9&auto=format&fit=crop&w=1355&q=80)"
   ]
  },
  {
   "cell_type": "markdown",
   "metadata": {},
   "source": [
    "---"
   ]
  },
  {
   "cell_type": "markdown",
   "metadata": {},
   "source": [
    "# PROJECT DESCRIPTION :\n",
    "### QUESTION : Is a new pizza restaurant in Vermont a viable business proposition?  If so, where should it be located?"
   ]
  },
  {
   "cell_type": "markdown",
   "metadata": {},
   "source": [
    "Vermont is a state well known for its green mountains, ski resorts, colorful foliage, and landscapes.  It's also famous for its cheddar cheese, maple syrup, and Ben & Jerry's ice cream.  While its pizza is not as famous as New York or Chicago - there are many chain and local pizza restaurants in the major cities and towns.  I was born and raised in rural Vermont, moved to the Burlington area in 1996 and have lived in several of the largest cities/towns in the state since then.\n",
    "\n",
    "The purpose of this project is to investigate the existing restaurants and bars in Vermont - How many are there?  Where are they?  Is there one or a few general areas where businesses (specifically restaurants) seem to thrive?  Are the pizza restaurants evenly distributed?  Is there a heavily populated area where it appears a new pizza restaurant would succeed?\n",
    "\n",
    "__The Target Audience__ for this investigation would be any current restaurant owner who wants to understand more about his competition or a prospective entrepeneur who wants to open a new pizza restaurant."
   ]
  },
  {
   "cell_type": "markdown",
   "metadata": {},
   "source": [
    "---"
   ]
  },
  {
   "cell_type": "markdown",
   "metadata": {},
   "source": [
    "# PROJECT DATA :"
   ]
  },
  {
   "cell_type": "markdown",
   "metadata": {},
   "source": [
    "1. WEB SCRAPING \n",
    "  - Research WIKIPEDIA and United States Census Bureau sites to understand population hubs in Vermont \n",
    "  - I will use this data to narrow down the initial search to the most populated area of the state\n",
    "1. GEOCODERS \n",
    "  - Use this library to turn addresses into GPS coordinates that can be easily mapped with Folium\n",
    "  - The resulting latitude and longitude coordinates can also be passed into FourSquare to return Venues in the areas\n",
    "1. FOURSQUARE \n",
    "  - Use FourSquare Venue and Location data to see what restaurants and bars already exist in the most populated areas of Vermont \n",
    "  - Map the FourSquare venues to visualize the results\n",
    "  - Apply machine learning techniques to group the data and find the best location for a new pizza restaurant"
   ]
  },
  {
   "cell_type": "markdown",
   "metadata": {},
   "source": [
    "---"
   ]
  }
 ],
 "metadata": {
  "kernelspec": {
   "display_name": "Python 3",
   "language": "python",
   "name": "python3"
  },
  "language_info": {
   "codemirror_mode": {
    "name": "ipython",
    "version": 3
   },
   "file_extension": ".py",
   "mimetype": "text/x-python",
   "name": "python",
   "nbconvert_exporter": "python",
   "pygments_lexer": "ipython3",
   "version": "3.6.8"
  }
 },
 "nbformat": 4,
 "nbformat_minor": 2
}
